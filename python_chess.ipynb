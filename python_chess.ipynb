{
  "nbformat": 4,
  "nbformat_minor": 0,
  "metadata": {
    "colab": {
      "name": "python_chess.ipynb",
      "provenance": []
    },
    "kernelspec": {
      "name": "python3",
      "display_name": "Python 3"
    },
    "language_info": {
      "name": "python"
    }
  },
  "cells": [
    {
      "cell_type": "code",
      "execution_count": null,
      "metadata": {
        "id": "596xIF8UE-YG"
      },
      "outputs": [],
      "source": [
        "# python chess\n",
        "# class Game():\n",
        "#   def __init__(self):\n",
        "#     board = Board()\n",
        "#     self.board = board\n",
        "#     self.turn = 'W'\n",
        "\n",
        "class Board():\n",
        "  def __init__(self):\n",
        "        files = ['A','B','C','D','E','F','G','H']\n",
        "        ranks = [1,2,3,4,5,6,7,8]\n",
        "        board = []\n",
        "        counter = 1\n",
        "\n",
        "        for rank in reversed(ranks):\n",
        "          for file in files:\n",
        "            board.append(Square(rank,file,counter))\n",
        "            counter += 1\n",
        "            \n",
        "\n",
        "        for square in board:\n",
        "          if square.rank == 2:\n",
        "            square.addPiece(\"P\",\"W\")\n",
        "          elif square.rank == 7:\n",
        "            square.addPiece(\"P\",\"B\")\n",
        "\n",
        "        abc = ['R','N','B','Q','K','B','N','R']\n",
        "        counter = 0\n",
        "        for square in board:\n",
        "          if square.rank == 1:\n",
        "            square.addPiece(abc[counter],\"W\")\n",
        "            counter += 1\n",
        "        counter = 0\n",
        "        for square in board:\n",
        "          if square.rank == 8:\n",
        "            square.addPiece(abc[counter],\"B\")\n",
        "            counter += 1\n",
        "        self.board = board\n",
        "        \n",
        "        # set initial turn\n",
        "        self.turn = 'W'\n",
        "\n",
        "  def current_turn(self):\n",
        "    return self.turn\n",
        "\n",
        "  def display_matrix(self):\n",
        "    display_str = ''\n",
        "    for count,square in enumerate(self.board):\n",
        "      if (count+1) % 8 == 0:\n",
        "          display_str = f\"{display_str}{square.posNo} \"\n",
        "          print(display_str)\n",
        "          display_str = ''\n",
        "      else:\n",
        "        display_str = f\"{display_str}{square.posNo} \"\n",
        "\n",
        "  def display_board(self):\n",
        "      display_str = ''\n",
        "      for count,square in enumerate(self.board):\n",
        "        if (count+1) % 8 == 0:\n",
        "          display_str = f\"{display_str}{square.piece_color}{square.piece_name} \"\n",
        "          print(display_str)\n",
        "          display_str = ''\n",
        "        else:\n",
        "          display_str = f\"{display_str}{square.piece_color}{square.piece_name} \"\n",
        "      #print(display_str)\n",
        "\n",
        "  def square_info(self,rank,file):\n",
        "    # what is on the square?\n",
        "    \n",
        "    for square in self.board:\n",
        "      if square.rank == rank and square.file == file:\n",
        "        return [square,square.piece_color,square.piece_name]\n",
        "\n",
        "  def square_by_posNo(self):\n",
        "    for square in self.board:\n",
        "      if square.rank == rank and square.file == file:\n",
        "        return square\n",
        "\n",
        "  def makeMove(self,square1,square2):\n",
        "    sq1_ = self.square_info(int(square1[1]),square1[0])[0]\n",
        "    sq1_color = self.square_info(int(square1[1]),square1[0])[1]\n",
        "    sq1_pieceName = self.square_info(int(square1[1]),square1[0])[2]\n",
        "    sq2_ = self.square_info(int(square2[1]),square2[0])[0]\n",
        "    sq2_color = self.square_info(int(square2[1]),square2[0])[1]\n",
        "    sq2_pieceName = self.square_info(int(square2[1]),square2[0])[2]\n",
        "\n",
        "    if self.turn != sq1_color:\n",
        "      print(\"Not your turn\")\n",
        "      return 0\n",
        "\n",
        "    if sq1_.isOccupied != False:\n",
        "      if sq2_.isOccupied == False:\n",
        "        sq1_.reset()\n",
        "        sq2_.reset()\n",
        "        sq2_.addPiece(sq1_pieceName,sq1_color)\n",
        "        self.turn = 'W' if self.turn == 'B' else 'B'\n",
        "\n",
        "      elif sq2_.isOccupied and sq1_color != sq2_color:\n",
        "        sq1_.reset()\n",
        "        sq2_.reset()\n",
        "        sq2_.addPiece(sq1_pieceName,sq1_color)\n",
        "        self.turn = 'W' if self.turn == 'B' else 'B'\n",
        "      elif sq1_color == sq2_color:\n",
        "        print(\"both square has same color piece\")\n",
        "      else:\n",
        "        print(\"something else went wrong\")\n",
        "    else:\n",
        "      print(\"Square 1 is Empty\")\n",
        "    # 1. MT\n",
        "    # 2. Occupied,MT (King exception, path checked by opponent)\n",
        "    # 3. Occupied,Occupied\n",
        "    # 3.1 W,W\n",
        "    # 3.2 W,B\n",
        "    \n",
        "  def validMoves(square1):\n",
        "    return null\n",
        "\n",
        "# row = rank, col = file\n",
        "class Square():\n",
        "  def __init__(self, rank,file,posNo,piece=None):\n",
        "        self.rank = rank\n",
        "        self.file = file\n",
        "        self.isOccupied = False\n",
        "        self.piece = None\n",
        "        self.piece_name = 'X'\n",
        "        self.piece_color = 'X'\n",
        "        self.posNo = posNo\n",
        "\n",
        "  def addPiece(self,name,color):\n",
        "    self.piece = Piece(name,color)\n",
        "    self.piece_name = name\n",
        "    self.piece_color = color\n",
        "    self.isOccupied = True\n",
        "\n",
        "  def reset(self):\n",
        "    self.isOccupied = False\n",
        "    self.piece = None\n",
        "    self.piece_name = 'X'\n",
        "    self.piece_color = 'X'\n",
        "\n",
        "class Piece():\n",
        "  def __init__(self,name,color):\n",
        "    self.name = name\n",
        "    self.color = color\n",
        "\n",
        "\n",
        "class King(Piece):\n",
        "  def __init__(self, name,color):\n",
        "    self.name = name\n",
        "    self.color = color\n",
        "    self.validMovesIndex = [1,-1,8,-8,7,9,-7,-9]\n",
        "\n",
        "class Queen(Piece):\n",
        "  # moves rule\n",
        "  def __init__(self, name,color):\n",
        "    self.name = name\n",
        "    self.color = color\n",
        "    self.validMovesIndex = [1,2,3,4,-1,-2,-3,-4,8,16,24,32,-8,-16,-24,-32,7,14,21,28,-7,-14,-21,-28,9,18,27,36,-9,-18,-27,-36]\n",
        "\n",
        "class Rook(Piece):\n",
        "  def __init__(self, name,color):\n",
        "    self.name = name\n",
        "    self.color = color\n",
        "    self.validMovesIndex = [1,2,3,4,-1,-2,-3,-4,8,16,24,32,-8,-16,-24,-32]\n",
        "class Pawn(Piece):\n",
        "  def __init__(self, name,color):\n",
        "    self.name = name\n",
        "    self.color = color\n",
        "    # depends on which color\n",
        "    self.validMovesIndex = [1,-1]\n",
        "class Knight(Piece):\n",
        "  def __init__(self, name,color):\n",
        "    self.name = name\n",
        "    self.color = color\n",
        "    self.validMovesIndex = [6,10,15,17,-6,-10,-15,-17]\n",
        "\n",
        "class Bishop(Piece):\n",
        "  \n",
        "  def __init__(self, name,color):\n",
        "    self.name = name\n",
        "    self.color = color\n",
        "    self.validMovesIndex = [7,14,21,28,-7,-14,-21,-28,9,18,27,36,-9,-18,-27,-36]\n",
        "\n",
        "\n"
      ]
    },
    {
      "cell_type": "code",
      "source": [
        "board = Board()\n",
        "board.current_turn()\n",
        "board.makeMove(\"B2\",\"B4\")\n",
        "board.display_board()\n",
        "#board.makeMove(\"B2\",\"B4\")\n",
        "#board.display_board()"
      ],
      "metadata": {
        "colab": {
          "base_uri": "https://localhost:8080/"
        },
        "id": "nHdtyEj_FnVH",
        "outputId": "3b9bd174-c8d7-4fd6-c073-849257a26944"
      },
      "execution_count": null,
      "outputs": [
        {
          "output_type": "stream",
          "name": "stdout",
          "text": [
            "BR BN BB BQ BK BB BN BR \n",
            "BP BP BP BP BP BP BP BP \n",
            "XX XX XX XX XX XX XX XX \n",
            "XX XX XX XX XX XX XX XX \n",
            "XX WP XX XX XX XX XX XX \n",
            "XX XX XX XX XX XX XX XX \n",
            "WP XX WP WP WP WP WP WP \n",
            "WR WN WB WQ WK WB WN WR \n"
          ]
        }
      ]
    },
    {
      "cell_type": "code",
      "source": [
        "board.makeMove(\"B4\",\"D4\")\n",
        "board.display_board()"
      ],
      "metadata": {
        "colab": {
          "base_uri": "https://localhost:8080/"
        },
        "id": "evZARrwG5B0r",
        "outputId": "58e65955-5aed-4876-a1f4-e821c6f50cb0"
      },
      "execution_count": null,
      "outputs": [
        {
          "output_type": "stream",
          "name": "stdout",
          "text": [
            "BR BN BB BQ BK BB BN BR \n",
            "BP XX BP BP BP BP BP BP \n",
            "XX XX XX XX XX XX XX XX \n",
            "XX XX XX XX XX XX XX XX \n",
            "XX XX XX BP XX XX XX XX \n",
            "XX XX XX XX XX XX XX XX \n",
            "WP XX WP XX WP WP WP WP \n",
            "WR WN WB WQ WK WB WN WR \n"
          ]
        }
      ]
    },
    {
      "cell_type": "code",
      "source": [
        "\n",
        "board.display_matrix()"
      ],
      "metadata": {
        "colab": {
          "base_uri": "https://localhost:8080/"
        },
        "id": "z6ZcK-Ok-juX",
        "outputId": "339e3313-1750-4c5f-e005-42022515dc74"
      },
      "execution_count": null,
      "outputs": [
        {
          "output_type": "stream",
          "name": "stdout",
          "text": [
            "1 2 3 4 5 6 7 8 \n",
            "9 10 11 12 13 14 15 16 \n",
            "17 18 19 20 21 22 23 24 \n",
            "25 26 27 28 29 30 31 32 \n",
            "33 34 35 36 37 38 39 40 \n",
            "41 42 43 44 45 46 47 48 \n",
            "49 50 51 52 53 54 55 56 \n",
            "57 58 59 60 61 62 63 64 \n"
          ]
        }
      ]
    },
    {
      "cell_type": "code",
      "source": [
        "king.color"
      ],
      "metadata": {
        "colab": {
          "base_uri": "https://localhost:8080/",
          "height": 35
        },
        "id": "GMB2YPPrAYZB",
        "outputId": "37b6578f-bf25-4134-b9e2-8f7ec9307556"
      },
      "execution_count": null,
      "outputs": [
        {
          "output_type": "execute_result",
          "data": {
            "text/plain": [
              "'W'"
            ],
            "application/vnd.google.colaboratory.intrinsic+json": {
              "type": "string"
            }
          },
          "metadata": {},
          "execution_count": 257
        }
      ]
    },
    {
      "cell_type": "code",
      "source": [
        ""
      ],
      "metadata": {
        "id": "zNIUtKOQC0M9"
      },
      "execution_count": null,
      "outputs": []
    }
  ]
}