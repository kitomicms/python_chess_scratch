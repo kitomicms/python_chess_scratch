{
  "nbformat": 4,
  "nbformat_minor": 0,
  "metadata": {
    "colab": {
      "name": "python_chess.ipynb",
      "provenance": [],
      "authorship_tag": "ABX9TyOQlruh1PspPtmk067HKIu9",
      "include_colab_link": true
    },
    "kernelspec": {
      "name": "python3",
      "display_name": "Python 3"
    },
    "language_info": {
      "name": "python"
    }
  },
  "cells": [
    {
      "cell_type": "markdown",
      "metadata": {
        "id": "view-in-github",
        "colab_type": "text"
      },
      "source": [
        "<a href=\"https://colab.research.google.com/github/kitomicms/python_chess_/blob/master/python_chess.ipynb\" target=\"_parent\"><img src=\"https://colab.research.google.com/assets/colab-badge.svg\" alt=\"Open In Colab\"/></a>"
      ]
    },
    {
      "cell_type": "code",
      "execution_count": 26,
      "metadata": {
        "id": "596xIF8UE-YG"
      },
      "outputs": [],
      "source": [
        "# python chess\n",
        "# class Game():\n",
        "#   def __init__(self):\n",
        "#     board = Board()\n",
        "#     self.board = board\n",
        "#     self.turn = 'W'\n",
        "\n",
        "class Board():\n",
        "  def __init__(self):\n",
        "        files = ['A','B','C','D','E','F','G','H']\n",
        "        ranks = [1,2,3,4,5,6,7,8]\n",
        "        board = []\n",
        "        counter = 1\n",
        "\n",
        "        # create all the squares\n",
        "        for rank in reversed(ranks):\n",
        "          for file in files:\n",
        "            board.append(Square(rank,file,counter))\n",
        "            counter += 1\n",
        "\n",
        "        # add coordinates\n",
        "        row_counter = 1\n",
        "        for count,square in enumerate(board):\n",
        "          \n",
        "          if (count+1) % 8 == 0:\n",
        "            x = 8\n",
        "            y = row_counter\n",
        "            row_counter +=1\n",
        "          else:\n",
        "            x = (count+1) % 8\n",
        "            y = row_counter\n",
        "          square.coordinate = (x,y)\n",
        "            \n",
        "\n",
        "        # add pawns\n",
        "        for square in board:\n",
        "          if square.rank == 2:\n",
        "            square.addPiece(\"P\",\"W\")\n",
        "          elif square.rank == 7:\n",
        "            square.addPiece(\"P\",\"B\")\n",
        "        # add other pieces\n",
        "        abc = ['R','N','B','Q','K','B','N','R']\n",
        "        counter = 0\n",
        "        for square in board:\n",
        "          if square.rank == 1:\n",
        "            square.addPiece(abc[counter],\"W\")\n",
        "            counter += 1\n",
        "        counter = 0\n",
        "        for square in board:\n",
        "          if square.rank == 8:\n",
        "            square.addPiece(abc[counter],\"B\")\n",
        "            counter += 1\n",
        "        self.board = board\n",
        "        \n",
        "        # set initial turn\n",
        "        self.turn = 'W'\n",
        "\n",
        "  def current_turn(self):\n",
        "    return self.turn\n",
        "\n",
        "  def display_matrix(self):\n",
        "    display_str = ''\n",
        "    for count,square in enumerate(self.board):\n",
        "      if (count+1) % 8 == 0:\n",
        "          display_str = f\"{display_str}{square.coordinate} \"\n",
        "          print(display_str)\n",
        "          display_str = ''\n",
        "      else:\n",
        "        display_str = f\"{display_str}{square.coordinate} \"\n",
        "\n",
        "  def display_board(self):\n",
        "      display_str = ''\n",
        "      for count,square in enumerate(self.board):\n",
        "        if (count+1) % 8 == 0:\n",
        "          display_str = f\"{display_str}{square.piece_color}{square.piece_name} \"\n",
        "          print(display_str)\n",
        "          display_str = ''\n",
        "        else:\n",
        "          display_str = f\"{display_str}{square.piece_color}{square.piece_name} \"\n",
        "      #print(display_str)\n",
        "\n",
        "  def square_info(self,rank,file):\n",
        "    # what is on the square?\n",
        "    \n",
        "    for square in self.board:\n",
        "      if square.rank == rank and square.file == file:\n",
        "        return [square,square.piece_color,square.piece_name,square.coordinate]\n",
        "\n",
        "\n",
        "  def makeMove(self,square1,square2):\n",
        "    sq1_ = self.square_info(int(square1[1]),square1[0])[0]\n",
        "    sq1_color = self.square_info(int(square1[1]),square1[0])[1]\n",
        "    sq1_pieceName = self.square_info(int(square1[1]),square1[0])[2]\n",
        "    sq2_ = self.square_info(int(square2[1]),square2[0])[0]\n",
        "    sq2_color = self.square_info(int(square2[1]),square2[0])[1]\n",
        "    sq2_pieceName = self.square_info(int(square2[1]),square2[0])[2]\n",
        "\n",
        "    if self.turn != sq1_color:\n",
        "      print(\"Not your turn\")\n",
        "      return 0\n",
        "\n",
        "    if sq1_.isOccupied != False:\n",
        "      if sq2_.isOccupied == False:\n",
        "        sq1_.reset()\n",
        "        sq2_.reset()\n",
        "        sq2_.addPiece(sq1_pieceName,sq1_color)\n",
        "        self.turn = 'W' if self.turn == 'B' else 'B'\n",
        "\n",
        "      elif sq2_.isOccupied and sq1_color != sq2_color:\n",
        "        sq1_.reset()\n",
        "        sq2_.reset()\n",
        "        sq2_.addPiece(sq1_pieceName,sq1_color)\n",
        "        self.turn = 'W' if self.turn == 'B' else 'B'\n",
        "      elif sq1_color == sq2_color:\n",
        "        print(\"both square has same color piece\")\n",
        "      else:\n",
        "        print(\"something else went wrong\")\n",
        "    else:\n",
        "      print(\"Square 1 is Empty\")\n",
        "    # 1. MT\n",
        "    # 2. Occupied,MT (King exception, path checked by opponent)\n",
        "    # 3. Occupied,Occupied\n",
        "    # 3.1 W,W\n",
        "    # 3.2 W,B\n",
        "    \n",
        "  def validMoves(square1):\n",
        "    pass\n",
        "\n",
        "# row = rank, col = file\n",
        "class Square():\n",
        "  def __init__(self, rank,file,coordinate,piece=None):\n",
        "        self.rank = rank\n",
        "        self.file = file\n",
        "        self.isOccupied = False\n",
        "        self.piece = None\n",
        "        self.piece_name = 'X'\n",
        "        self.piece_color = 'X'\n",
        "        self.coordinate = coordinate\n",
        "\n",
        "  def addPiece(self,name,color):\n",
        "    if name == 'P':\n",
        "      self.piece = Pawn(name,color)\n",
        "      self.piece_name = name\n",
        "      self.piece_color = color\n",
        "      self.isOccupied = True\n",
        "    elif name == 'K':\n",
        "      self.piece = King(name,color)\n",
        "      self.piece_name = name\n",
        "      self.piece_color = color\n",
        "      self.isOccupied = True\n",
        "    elif name == 'Q':\n",
        "      self.piece = Queen(name,color)\n",
        "      self.piece_name = name\n",
        "      self.piece_color = color\n",
        "      self.isOccupied = True\n",
        "    elif name == 'R':\n",
        "      self.piece = Rook(name,color)\n",
        "      self.piece_name = name\n",
        "      self.piece_color = color\n",
        "      self.isOccupied = True\n",
        "    elif name == 'N':\n",
        "      self.piece = Knight(name,color)\n",
        "      self.piece_name = name\n",
        "      self.piece_color = color\n",
        "      self.isOccupied = True\n",
        "    elif name == 'B':\n",
        "      self.piece = Bishop(name,color)\n",
        "      self.piece_name = name\n",
        "      self.piece_color = color\n",
        "      self.isOccupied = True\n",
        "    else:\n",
        "      print(\"invalid piece name entered\")\n",
        "      \n",
        "\n",
        "  def reset(self):\n",
        "    self.isOccupied = False\n",
        "    self.piece = None\n",
        "    self.piece_name = 'X'\n",
        "    self.piece_color = 'X'\n",
        "\n",
        "class Piece():\n",
        "  def __init__(self,name,color):\n",
        "    self.name = name\n",
        "    self.color = color\n",
        "\n",
        "\n",
        "class King(Piece):\n",
        "  def __init__(self, name,color):\n",
        "    self.name = name\n",
        "    self.color = color\n",
        "    self.validMovesIndex = [1,-1,8,-8,7,9,-7,-9]\n",
        "\n",
        "class Queen(Piece):\n",
        "  # moves rule\n",
        "  def __init__(self, name,color):\n",
        "    self.name = name\n",
        "    self.color = color\n",
        "    self.validMovesIndex = [1,2,3,4,-1,-2,-3,-4,8,16,24,32,-8,-16,-24,-32,7,14,21,28,-7,-14,-21,-28,9,18,27,36,-9,-18,-27,-36]\n",
        "\n",
        "class Rook(Piece):\n",
        "  def __init__(self, name,color):\n",
        "    self.name = name\n",
        "    self.color = color\n",
        "    self.validMovesIndex = [1,2,3,4,-1,-2,-3,-4,8,16,24,32,-8,-16,-24,-32]\n",
        "class Pawn(Piece):\n",
        "  def __init__(self, name,color):\n",
        "    self.name = name\n",
        "    self.color = color\n",
        "    # depends on which color\n",
        "    self.validMovesIndex = [1,-1]\n",
        "class Knight(Piece):\n",
        "  def __init__(self, name,color):\n",
        "    self.name = name\n",
        "    self.color = color\n",
        "    self.validMovesIndex = [6,10,15,17,-6,-10,-15,-17]\n",
        "\n",
        "class Bishop(Piece):\n",
        "  \n",
        "  def __init__(self, name,color):\n",
        "    self.name = name\n",
        "    self.color = color\n",
        "    self.validMovesIndex = [7,14,21,28,-7,-14,-21,-28,9,18,27,36,-9,-18,-27,-36]\n",
        "\n",
        "\n"
      ]
    },
    {
      "cell_type": "code",
      "source": [
        "board = Board()\n",
        "board.current_turn()\n",
        "board.makeMove(\"B2\",\"B4\")\n",
        "board.display_board()\n",
        "#board.makeMove(\"B2\",\"B4\")\n",
        "#board.display_board()"
      ],
      "metadata": {
        "colab": {
          "base_uri": "https://localhost:8080/"
        },
        "id": "nHdtyEj_FnVH",
        "outputId": "849f2614-7d72-4bf1-8dd7-a993eda9f3ab"
      },
      "execution_count": 27,
      "outputs": [
        {
          "output_type": "stream",
          "name": "stdout",
          "text": [
            "BR BN BB BQ BK BB BN BR \n",
            "BP BP BP BP BP BP BP BP \n",
            "XX XX XX XX XX XX XX XX \n",
            "XX XX XX XX XX XX XX XX \n",
            "XX WP XX XX XX XX XX XX \n",
            "XX XX XX XX XX XX XX XX \n",
            "WP XX WP WP WP WP WP WP \n",
            "WR WN WB WQ WK WB WN WR \n"
          ]
        }
      ]
    },
    {
      "cell_type": "code",
      "source": [
        "board.makeMove(\"B4\",\"D4\")\n",
        "board.display_board()"
      ],
      "metadata": {
        "colab": {
          "base_uri": "https://localhost:8080/"
        },
        "id": "evZARrwG5B0r",
        "outputId": "f756b463-1bbd-4bbe-cb70-75fdec39508a"
      },
      "execution_count": 23,
      "outputs": [
        {
          "output_type": "stream",
          "name": "stdout",
          "text": [
            "Not your turn\n",
            "BR BN BB BQ BK BB BN BR \n",
            "BP BP BP BP BP BP BP BP \n",
            "XX XX XX XX XX XX XX XX \n",
            "XX XX XX XX XX XX XX XX \n",
            "XX WP XX XX XX XX XX XX \n",
            "XX XX XX XX XX XX XX XX \n",
            "WP XX WP WP WP WP WP WP \n",
            "WR WN WB WQ WK WB WN WR \n"
          ]
        }
      ]
    },
    {
      "cell_type": "code",
      "source": [
        "\n",
        "board.display_matrix()"
      ],
      "metadata": {
        "colab": {
          "base_uri": "https://localhost:8080/"
        },
        "id": "z6ZcK-Ok-juX",
        "outputId": "566e66da-868e-4295-f8a1-899321ffc89e"
      },
      "execution_count": 28,
      "outputs": [
        {
          "output_type": "stream",
          "name": "stdout",
          "text": [
            "(1, 1) (2, 1) (3, 1) (4, 1) (5, 1) (6, 1) (7, 1) (8, 1) \n",
            "(1, 2) (2, 2) (3, 2) (4, 2) (5, 2) (6, 2) (7, 2) (8, 2) \n",
            "(1, 3) (2, 3) (3, 3) (4, 3) (5, 3) (6, 3) (7, 3) (8, 3) \n",
            "(1, 4) (2, 4) (3, 4) (4, 4) (5, 4) (6, 4) (7, 4) (8, 4) \n",
            "(1, 5) (2, 5) (3, 5) (4, 5) (5, 5) (6, 5) (7, 5) (8, 5) \n",
            "(1, 6) (2, 6) (3, 6) (4, 6) (5, 6) (6, 6) (7, 6) (8, 6) \n",
            "(1, 7) (2, 7) (3, 7) (4, 7) (5, 7) (6, 7) (7, 7) (8, 7) \n",
            "(1, 8) (2, 8) (3, 8) (4, 8) (5, 8) (6, 8) (7, 8) (8, 8) \n"
          ]
        }
      ]
    },
    {
      "cell_type": "code",
      "source": [
        "king.color"
      ],
      "metadata": {
        "colab": {
          "base_uri": "https://localhost:8080/",
          "height": 35
        },
        "id": "GMB2YPPrAYZB",
        "outputId": "37b6578f-bf25-4134-b9e2-8f7ec9307556"
      },
      "execution_count": null,
      "outputs": [
        {
          "output_type": "execute_result",
          "data": {
            "text/plain": [
              "'W'"
            ],
            "application/vnd.google.colaboratory.intrinsic+json": {
              "type": "string"
            }
          },
          "metadata": {},
          "execution_count": 257
        }
      ]
    },
    {
      "cell_type": "code",
      "source": [
        "board.square_info(1,\"B\")"
      ],
      "metadata": {
        "id": "zNIUtKOQC0M9",
        "colab": {
          "base_uri": "https://localhost:8080/"
        },
        "outputId": "dc85ac05-18da-44e4-d502-eef47de7c892"
      },
      "execution_count": 15,
      "outputs": [
        {
          "output_type": "execute_result",
          "data": {
            "text/plain": [
              "[<__main__.Square at 0x7f1e026922d0>, 'W', 'N', (8, 8)]"
            ]
          },
          "metadata": {},
          "execution_count": 15
        }
      ]
    },
    {
      "cell_type": "code",
      "source": [
        ""
      ],
      "metadata": {
        "id": "WLjGg9RVTGKh"
      },
      "execution_count": null,
      "outputs": []
    }
  ]
}