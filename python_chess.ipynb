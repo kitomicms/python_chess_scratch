{
  "nbformat": 4,
  "nbformat_minor": 0,
  "metadata": {
    "colab": {
      "name": "python_chess.ipynb",
      "provenance": [],
      "authorship_tag": "ABX9TyO/Tkey5gcaslQY5wJ0/Cby",
      "include_colab_link": true
    },
    "kernelspec": {
      "name": "python3",
      "display_name": "Python 3"
    },
    "language_info": {
      "name": "python"
    }
  },
  "cells": [
    {
      "cell_type": "markdown",
      "metadata": {
        "id": "view-in-github",
        "colab_type": "text"
      },
      "source": [
        "<a href=\"https://colab.research.google.com/github/kitomicms/python_chess_/blob/master/python_chess.ipynb\" target=\"_parent\"><img src=\"https://colab.research.google.com/assets/colab-badge.svg\" alt=\"Open In Colab\"/></a>"
      ]
    },
    {
      "cell_type": "code",
      "execution_count": 22,
      "metadata": {
        "id": "596xIF8UE-YG"
      },
      "outputs": [],
      "source": [
        "# python chess\n",
        "# class Game():\n",
        "#   def __init__(self):\n",
        "#     board = Board()\n",
        "#     self.board = board\n",
        "#     self.turn = 'W'\n",
        "\n",
        "class Board():\n",
        "  def __init__(self):\n",
        "        files = ['A','B','C','D','E','F','G','H']\n",
        "        ranks = [1,2,3,4,5,6,7,8]\n",
        "        board = []\n",
        "        counter = 1\n",
        "\n",
        "        # create all the squares\n",
        "        for rank in reversed(ranks):\n",
        "          for file in files:\n",
        "            board.append(Square(rank,file,counter))\n",
        "            counter += 1\n",
        "\n",
        "        # add coordinates\n",
        "        row_counter = 1\n",
        "        for count,square in enumerate(board):\n",
        "          \n",
        "          if (count+1) % 8 == 0:\n",
        "            x = 8\n",
        "            y = row_counter\n",
        "            row_counter +=1\n",
        "          else:\n",
        "            x = (count+1) % 8\n",
        "            y = row_counter\n",
        "          square.coordinate = (x,y)\n",
        "            \n",
        "\n",
        "        # add pawns\n",
        "        for square in board:\n",
        "          if square.rank == 2:\n",
        "            square.addPiece(\"P\",\"W\")\n",
        "          elif square.rank == 7:\n",
        "            square.addPiece(\"P\",\"B\")\n",
        "        # add other pieces\n",
        "        abc = ['R','N','B','Q','K','B','N','R']\n",
        "        counter = 0\n",
        "        for square in board:\n",
        "          if square.rank == 1:\n",
        "            square.addPiece(abc[counter],\"W\")\n",
        "            counter += 1\n",
        "        counter = 0\n",
        "        for square in board:\n",
        "          if square.rank == 8:\n",
        "            square.addPiece(abc[counter],\"B\")\n",
        "            counter += 1\n",
        "        self.board = board\n",
        "        \n",
        "        # set initial turn\n",
        "        self.turn = 'W'\n",
        "\n",
        "  def current_turn(self):\n",
        "    return self.turn\n",
        "  def display_color(self):\n",
        "    display_str = ''\n",
        "    for count,square in enumerate(self.board):\n",
        "      if (count+1) % 8 == 0:\n",
        "          display_str = f\"{display_str}{square.piece_color} \"\n",
        "          print(display_str)\n",
        "          display_str = ''\n",
        "      else:\n",
        "        display_str = f\"{display_str}{square.piece_color} \"\n",
        "\n",
        "  def display_matrix(self):\n",
        "    display_str = ''\n",
        "    for count,square in enumerate(self.board):\n",
        "      if (count+1) % 8 == 0:\n",
        "          display_str = f\"{display_str}{square.coordinate} \"\n",
        "          print(display_str)\n",
        "          display_str = ''\n",
        "      else:\n",
        "        display_str = f\"{display_str}{square.coordinate} \"\n",
        "\n",
        "  def display_board(self):\n",
        "      display_str = ''\n",
        "      for count,square in enumerate(self.board):\n",
        "        if (count+1) % 8 == 0:\n",
        "          display_str = f\"{display_str}{square.piece_color}{square.piece_name} \"\n",
        "          print(display_str)\n",
        "          display_str = ''\n",
        "        else:\n",
        "          display_str = f\"{display_str}{square.piece_color}{square.piece_name} \"\n",
        "      #print(display_str)\n",
        "\n",
        "  def square_info(self,rank,file):\n",
        "    # what is on the square?\n",
        "    \n",
        "    for square in self.board:\n",
        "      if square.rank == rank and square.file == file:\n",
        "        return [square,square.piece_color,square.piece_name,square.coordinate]\n",
        "\n",
        "\n",
        "  def makeMove(self,square1,square2):\n",
        "    sq1_ = self.square_info(int(square1[1]),square1[0])[0]\n",
        "    sq1_color = self.square_info(int(square1[1]),square1[0])[1]\n",
        "    sq1_pieceName = self.square_info(int(square1[1]),square1[0])[2]\n",
        "    sq2_ = self.square_info(int(square2[1]),square2[0])[0]\n",
        "    sq2_color = self.square_info(int(square2[1]),square2[0])[1]\n",
        "    sq2_pieceName = self.square_info(int(square2[1]),square2[0])[2]\n",
        "\n",
        "    if self.turn != sq1_color:\n",
        "      print(\"Not your turn\")\n",
        "      return 0\n",
        "\n",
        "    if sq1_.isOccupied != False:\n",
        "      if sq2_.isOccupied == False:\n",
        "        sq1_.reset()\n",
        "        sq2_.reset()\n",
        "        sq2_.addPiece(sq1_pieceName,sq1_color)\n",
        "        self.turn = 'W' if self.turn == 'B' else 'B'\n",
        "\n",
        "      elif sq2_.isOccupied and sq1_color != sq2_color:\n",
        "        sq1_.reset()\n",
        "        sq2_.reset()\n",
        "        sq2_.addPiece(sq1_pieceName,sq1_color)\n",
        "        self.turn = 'W' if self.turn == 'B' else 'B'\n",
        "      elif sq1_color == sq2_color:\n",
        "        print(\"both square has same color piece\")\n",
        "      else:\n",
        "        print(\"something else went wrong\")\n",
        "    else:\n",
        "      print(\"Square 1 is Empty\")\n",
        "    # 1. MT\n",
        "    # 2. Occupied,MT (King exception, path checked by opponent)\n",
        "    # 3. Occupied,Occupied\n",
        "    # 3.1 W,W\n",
        "    # 3.2 W,B\n",
        "  \n",
        "  def availableMoves(self,square1):\n",
        "    # according to current piece position and apply coordinate movement\n",
        "    sq1_ = self.square_info(int(square1[1]),square1[0])[0]\n",
        "    sq1_pieceColor = sq1_.piece_color\n",
        "    sq1_x = sq1_.coordinate[0]\n",
        "    sq1_y = sq1_.coordinate[1]\n",
        "    \n",
        "    # check if the square is occupied\n",
        "    if sq1_.isOccupied:\n",
        "      movesIndex = sq1_.piece.validMovesIndex\n",
        "      possibleMoves = [(x+sq1_x,y+sq1_y) for (x,y) in movesIndex]\n",
        "      impossibleMoves = []\n",
        "      \n",
        "      # find out moves that are not in the 8x8 grid\n",
        "      for move in possibleMoves:\n",
        "        if (move[0] <= 0) or (move[1] <= 0):\n",
        "          impossibleMoves.append(move)\n",
        "        elif (move[0] >= 9) or (move[1] >= 9):\n",
        "          impossibleMoves.append(move)\n",
        "      # remove all the impossible moves\n",
        "      for move in impossibleMoves:\n",
        "        possibleMoves.remove(move)\n",
        "      impossibleMoves = []\n",
        "\n",
        "      # check if dest position has own piece\n",
        "      for move in possibleMoves:\n",
        "        if self.squareByCoordinate(move).piece_color == sq1_pieceColor:\n",
        "          impossibleMoves.append(move)\n",
        "      # remove all the impossible moves\n",
        "      for move in impossibleMoves:\n",
        "        possibleMoves.remove(move)\n",
        "      impossibleMoves = []\n",
        "      # find out if other pieces is between current position and the dest position\n",
        "      # Pawn\n",
        "      ## 1. move forward\n",
        "      ## 2. move diagonal to take opponent piece\n",
        "      ## 3. en passant to take opponent piece, need to recall pieces move\n",
        "\n",
        "      # Knight\n",
        "      ## no same color piece at dest position\n",
        "      \n",
        "      # King\n",
        "      ## no same color piece at dest position\n",
        "      \n",
        "      # applied to Queen/Rook/Bishop\n",
        "      \n",
        "      for (x_,y_) in possibleMoves:\n",
        "        x_distance = x_ - sq1_x\n",
        "        y_distance = y_ - sq1_y\n",
        "\n",
        "        if (abs(x_distance) == 1 or abs(x_distance) == 0) and \\\n",
        "        (abs(y_distance) == 1 or abs(y_distance) == 0):\n",
        "          pass\n",
        "        elif (abs(x_distance) > 1 or abs(y_distance) == 0):\n",
        "          # say rook move sideway\n",
        "          if x_distance > 1:\n",
        "            for x in range(1,x_distance):\n",
        "              if self.squareByCoordinate((sq1_x+x,sq1_y)).isOccupied:\n",
        "                impossibleMoves.append((x_,y_))\n",
        "                break\n",
        "          elif x_distance < 1:\n",
        "            for x in range(1,-x_distance):\n",
        "              if self.squareByCoordinate((-sq1_x+x,sq1_y)).isOccupied:\n",
        "                impossibleMoves.append((x_,y_))\n",
        "                break\n",
        "        elif (abs(x_distance) == 0 or abs(y_distance) > 1):\n",
        "          # say rook move up and down\n",
        "          if y_distance > 1:\n",
        "            for y in range(1,y_distance):\n",
        "              if self.squareByCoordinate((sq1_x,y+sq1_y)).isOccupied:\n",
        "                impossibleMoves.append((x_,y_))\n",
        "                break\n",
        "          elif y_distance < 1:\n",
        "            for y in range(1,-y_distance):\n",
        "              if self.squareByCoordinate((sq1_x,-y+sq1_y)).isOccupied:\n",
        "                impossibleMoves.append((x_,y_))\n",
        "                break\n",
        "        else: # should remain diagonal move\n",
        "          pass\n",
        "      # remove all the impossible moves\n",
        "      for move in impossibleMoves:\n",
        "        possibleMoves.remove(move)\n",
        "      impossibleMoves = []\n",
        "      return possibleMoves # all the legit move based on piece's rules\n",
        "    else:\n",
        "      print(\"This square is not occupied by any pieces\")\n",
        "\n",
        "    # remove the invalid move due to blockage\n",
        "    \n",
        "  def squareByCoordinate(self,coordinate):\n",
        "    # x files , y ranks\n",
        "    files = ['A','B','C','D','E','F','G','H']\n",
        "    ranks = [1,2,3,4,5,6,7,8]\n",
        "    return self.square_info(ranks[-(coordinate[1])],files[coordinate[0]-1])[0]\n",
        "\n",
        "\n",
        "\n",
        "  def validMoves(square1,possibleMoves):\n",
        "    # need to check if being checked after move, king's path\n",
        "\n",
        "    # king move\n",
        "    ## still being checked?\n",
        "\n",
        "    # other move\n",
        "    ## allow to be checked?\n",
        "    pass\n",
        "  def isChecked():\n",
        "    # checked or checkmated\n",
        "    pass\n",
        "  def isStalemate():\n",
        "    pass\n",
        "  def castling():\n",
        "    pass\n",
        "  def enpassen():\n",
        "    pass\n",
        "    # need to check if oppenent pawn made 2 step move at first and never move after that\n",
        "\n",
        "# row = rank, col = file\n",
        "class Square():\n",
        "  def __init__(self, rank,file,coordinate,piece=None):\n",
        "        self.rank = rank\n",
        "        self.file = file\n",
        "        self.isOccupied = False\n",
        "        self.piece = None\n",
        "        self.piece_name = 'X'\n",
        "        self.piece_color = 'X'\n",
        "        self.coordinate = coordinate\n",
        "\n",
        "  def addPiece(self,name,color):\n",
        "    if name == 'P':\n",
        "      self.piece = Pawn(name,color)\n",
        "      self.piece_name = name\n",
        "      self.piece_color = color\n",
        "      self.isOccupied = True\n",
        "    elif name == 'K':\n",
        "      self.piece = King(name,color)\n",
        "      self.piece_name = name\n",
        "      self.piece_color = color\n",
        "      self.isOccupied = True\n",
        "    elif name == 'Q':\n",
        "      self.piece = Queen(name,color)\n",
        "      self.piece_name = name\n",
        "      self.piece_color = color\n",
        "      self.isOccupied = True\n",
        "    elif name == 'R':\n",
        "      self.piece = Rook(name,color)\n",
        "      self.piece_name = name\n",
        "      self.piece_color = color\n",
        "      self.isOccupied = True\n",
        "    elif name == 'N':\n",
        "      self.piece = Knight(name,color)\n",
        "      self.piece_name = name\n",
        "      self.piece_color = color\n",
        "      self.isOccupied = True\n",
        "    elif name == 'B':\n",
        "      self.piece = Bishop(name,color)\n",
        "      self.piece_name = name\n",
        "      self.piece_color = color\n",
        "      self.isOccupied = True\n",
        "    else:\n",
        "      print(\"invalid piece name entered\")\n",
        "      \n",
        "\n",
        "  def reset(self):\n",
        "    self.isOccupied = False\n",
        "    self.piece = None\n",
        "    self.piece_name = 'X'\n",
        "    self.piece_color = 'X'\n",
        "\n",
        "class Piece():\n",
        "  def __init__(self,name,color):\n",
        "    self.name = name\n",
        "    self.color = color\n",
        "    \n",
        "\n",
        "class King(Piece):\n",
        "  def __init__(self, name,color):\n",
        "    self.name = name\n",
        "    self.color = color\n",
        "    self.validMovesIndex = []\n",
        "    self.validMovesIndex.append((1,0))\n",
        "    self.validMovesIndex.append((-1,0))\n",
        "    self.validMovesIndex.append((0,1))\n",
        "    self.validMovesIndex.append((0,-1))\n",
        "    self.validMovesIndex.append((1,1))\n",
        "    self.validMovesIndex.append((1,-1))\n",
        "    self.validMovesIndex.append((-1,1))\n",
        "    self.validMovesIndex.append((-1,-1))\n",
        "class Queen(Piece):\n",
        "  # moves rule\n",
        "  def __init__(self, name,color):\n",
        "    self.name = name\n",
        "    self.color = color\n",
        "    self.validMovesIndex = []\n",
        "    for x in [1,2,3,4,5,6,7]:\n",
        "      self.validMovesIndex.append((x,0))\n",
        "      self.validMovesIndex.append((-x,0))\n",
        "      self.validMovesIndex.append((0,x))\n",
        "      self.validMovesIndex.append((0,-x))\n",
        "      self.validMovesIndex.append((x,x))\n",
        "      self.validMovesIndex.append((x,-x))\n",
        "      self.validMovesIndex.append((-x,x))\n",
        "      self.validMovesIndex.append((-x,-x))\n",
        "class Rook(Piece):\n",
        "  def __init__(self, name,color):\n",
        "    self.name = name\n",
        "    self.color = color\n",
        "    self.validMovesIndex = []\n",
        "    for x in [1,2,3,4,5,6,7]:\n",
        "      self.validMovesIndex.append((x,0))\n",
        "      self.validMovesIndex.append((-x,0))\n",
        "      self.validMovesIndex.append((0,x))\n",
        "      self.validMovesIndex.append((0,-x))\n",
        "      \n",
        "class Pawn(Piece):\n",
        "  def __init__(self, name,color):\n",
        "    self.name = name\n",
        "    self.color = color\n",
        "    # depends on which color\n",
        "    self.validMovesIndex = []\n",
        "    if self.color == 'W':\n",
        "      self.validMovesIndex.append((0,-1))\n",
        "      # what if it is the first move\n",
        "    else:\n",
        "      self.validMovesIndex.append((0,1))\n",
        "    self.movesHistory = []\n",
        "\n",
        "class Knight(Piece):\n",
        "  def __init__(self, name,color):\n",
        "    self.name = name\n",
        "    self.color = color\n",
        "    self.validMovesIndex = [6,10,15,17,-6,-10,-15,-17]\n",
        "\n",
        "class Bishop(Piece):\n",
        "  \n",
        "  def __init__(self, name,color):\n",
        "    self.name = name\n",
        "    self.color = color\n",
        "    self.validMovesIndex = []\n",
        "    for x in [1,2,3,4,5,6,7]:\n",
        "      self.validMovesIndex.append((x,x))\n",
        "      self.validMovesIndex.append((x,-x))\n",
        "      self.validMovesIndex.append((-x,x))\n",
        "      self.validMovesIndex.append((-x,-x))\n",
        "\n"
      ]
    },
    {
      "cell_type": "code",
      "source": [
        "board = Board()\n",
        "board.current_turn()\n",
        "board.makeMove(\"H1\",\"D4\")\n",
        "board.makeMove(\"H7\",\"H6\")\n",
        "board.makeMove(\"D2\",\"D3\")\n",
        "board.display_board()\n",
        "#board.makeMove(\"B2\",\"B4\")\n",
        "#board.display_board()"
      ],
      "metadata": {
        "colab": {
          "base_uri": "https://localhost:8080/"
        },
        "id": "nHdtyEj_FnVH",
        "outputId": "9d7c724e-981b-4193-99b2-a3d17883379b"
      },
      "execution_count": 23,
      "outputs": [
        {
          "output_type": "stream",
          "name": "stdout",
          "text": [
            "BR BN BB BQ BK BB BN BR \n",
            "BP BP BP BP BP BP BP XX \n",
            "XX XX XX XX XX XX XX BP \n",
            "XX XX XX XX XX XX XX XX \n",
            "XX XX XX WR XX XX XX XX \n",
            "XX XX XX WP XX XX XX XX \n",
            "WP WP WP XX WP WP WP WP \n",
            "WR WN WB WQ WK WB WN XX \n"
          ]
        }
      ]
    },
    {
      "cell_type": "code",
      "source": [
        "\n",
        "board.display_matrix()"
      ],
      "metadata": {
        "colab": {
          "base_uri": "https://localhost:8080/"
        },
        "id": "z6ZcK-Ok-juX",
        "outputId": "56b1445f-7a94-4b7e-ae5d-213c85aef7d6"
      },
      "execution_count": 24,
      "outputs": [
        {
          "output_type": "stream",
          "name": "stdout",
          "text": [
            "(1, 1) (2, 1) (3, 1) (4, 1) (5, 1) (6, 1) (7, 1) (8, 1) \n",
            "(1, 2) (2, 2) (3, 2) (4, 2) (5, 2) (6, 2) (7, 2) (8, 2) \n",
            "(1, 3) (2, 3) (3, 3) (4, 3) (5, 3) (6, 3) (7, 3) (8, 3) \n",
            "(1, 4) (2, 4) (3, 4) (4, 4) (5, 4) (6, 4) (7, 4) (8, 4) \n",
            "(1, 5) (2, 5) (3, 5) (4, 5) (5, 5) (6, 5) (7, 5) (8, 5) \n",
            "(1, 6) (2, 6) (3, 6) (4, 6) (5, 6) (6, 6) (7, 6) (8, 6) \n",
            "(1, 7) (2, 7) (3, 7) (4, 7) (5, 7) (6, 7) (7, 7) (8, 7) \n",
            "(1, 8) (2, 8) (3, 8) (4, 8) (5, 8) (6, 8) (7, 8) (8, 8) \n"
          ]
        }
      ]
    },
    {
      "cell_type": "code",
      "source": [
        "\n",
        "board.display_color()"
      ],
      "metadata": {
        "colab": {
          "base_uri": "https://localhost:8080/"
        },
        "id": "xom7Tgy-cgkR",
        "outputId": "f80a676e-603a-497a-8f67-d86c4a1f22e2"
      },
      "execution_count": 25,
      "outputs": [
        {
          "output_type": "stream",
          "name": "stdout",
          "text": [
            "B B B B B B B B \n",
            "B B B B B B B X \n",
            "X X X X X X X B \n",
            "X X X X X X X X \n",
            "X X X W X X X X \n",
            "X X X W X X X X \n",
            "W W W X W W W W \n",
            "W W W W W W W X \n"
          ]
        }
      ]
    },
    {
      "cell_type": "code",
      "source": [
        "sorted(board.availableMoves(\"H8\"))"
      ],
      "metadata": {
        "colab": {
          "base_uri": "https://localhost:8080/"
        },
        "id": "GMB2YPPrAYZB",
        "outputId": "90ba2315-ca68-4f7c-8d2e-feefda594fe9"
      },
      "execution_count": 28,
      "outputs": [
        {
          "output_type": "stream",
          "name": "stdout",
          "text": [
            "8 2 is being reviewed...\n",
            "8 4 is being reviewed...\n",
            "8 4 removed\n",
            "8 5 is being reviewed...\n",
            "8 5 removed\n",
            "8 6 is being reviewed...\n",
            "8 6 removed\n",
            "8 7 is being reviewed...\n",
            "8 7 removed\n",
            "8 8 is being reviewed...\n",
            "8 8 removed\n"
          ]
        },
        {
          "output_type": "execute_result",
          "data": {
            "text/plain": [
              "[(8, 2)]"
            ]
          },
          "metadata": {},
          "execution_count": 28
        }
      ]
    },
    {
      "cell_type": "code",
      "source": [
        "ranks = reversed([1,2,3,4,5,6,7,8])\n",
        "ranks"
      ],
      "metadata": {
        "colab": {
          "base_uri": "https://localhost:8080/"
        },
        "id": "LZLpq2G5GFmL",
        "outputId": "e66e6cde-a402-42b0-f90d-df90577e6cd3"
      },
      "execution_count": 21,
      "outputs": [
        {
          "output_type": "execute_result",
          "data": {
            "text/plain": [
              "<list_reverseiterator at 0x7f7000a6c210>"
            ]
          },
          "metadata": {},
          "execution_count": 21
        }
      ]
    },
    {
      "cell_type": "code",
      "source": [
        "abc = range(1,2)\n",
        "for x in abc:\n",
        "  print(x)"
      ],
      "metadata": {
        "colab": {
          "base_uri": "https://localhost:8080/"
        },
        "id": "G_cdDoH1W5lh",
        "outputId": "45a98a3c-2368-4316-8aa0-e45beda3e71e"
      },
      "execution_count": null,
      "outputs": [
        {
          "output_type": "stream",
          "name": "stdout",
          "text": [
            "1\n"
          ]
        }
      ]
    },
    {
      "cell_type": "code",
      "source": [
        "sign(-2)"
      ],
      "metadata": {
        "colab": {
          "base_uri": "https://localhost:8080/",
          "height": 170
        },
        "id": "FnCp2g0mmesl",
        "outputId": "e13c959c-648a-4dd0-93bb-e02bb3332648"
      },
      "execution_count": null,
      "outputs": [
        {
          "output_type": "error",
          "ename": "NameError",
          "evalue": "ignored",
          "traceback": [
            "\u001b[0;31m---------------------------------------------------------------------------\u001b[0m",
            "\u001b[0;31mNameError\u001b[0m                                 Traceback (most recent call last)",
            "\u001b[0;32m<ipython-input-161-4a99d99e92f3>\u001b[0m in \u001b[0;36m<module>\u001b[0;34m()\u001b[0m\n\u001b[0;32m----> 1\u001b[0;31m \u001b[0msign\u001b[0m\u001b[0;34m(\u001b[0m\u001b[0;34m-\u001b[0m\u001b[0;36m2\u001b[0m\u001b[0;34m)\u001b[0m\u001b[0;34m\u001b[0m\u001b[0;34m\u001b[0m\u001b[0m\n\u001b[0m",
            "\u001b[0;31mNameError\u001b[0m: name 'sign' is not defined"
          ]
        }
      ]
    },
    {
      "cell_type": "code",
      "source": [
        ""
      ],
      "metadata": {
        "id": "4gB-j8vPmk-G"
      },
      "execution_count": null,
      "outputs": []
    }
  ]
}